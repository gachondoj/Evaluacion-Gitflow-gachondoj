{
 "cells": [
  {
   "cell_type": "markdown",
   "metadata": {},
   "source": [
    "Librerias"
   ]
  },
  {
   "cell_type": "code",
   "execution_count": 1,
   "metadata": {},
   "outputs": [],
   "source": [
    "import pandas as pd\n",
    "from pandas.io.json import json_normalize\n",
    "import warnings\n",
    "warnings.filterwarnings(\"ignore\")"
   ]
  },
  {
   "cell_type": "markdown",
   "metadata": {},
   "source": [
    "Cargar Dataset"
   ]
  },
  {
   "cell_type": "code",
   "execution_count": 2,
   "metadata": {},
   "outputs": [
    {
     "name": "stdout",
     "output_type": "stream",
     "text": [
      "Cargando dataset...\n",
      "Procesando Usuarios...\n",
      "Listo\n"
     ]
    }
   ],
   "source": [
    "print(\"Cargando dataset...\")\n",
    "raw_tweets = pd.read_json(r'./farmers-protest-tweets-2021-03-5.json', lines=True)\n",
    "print(\"Procesando Usuarios...\")\n",
    "users = json_normalize(raw_tweets['user'])\n",
    "users.drop(['description', 'linkTcourl'], axis=1, inplace=True)\n",
    "users.rename(columns={'id':'userId', 'url':'profileUrl'}, inplace=True)\n",
    "users.drop_duplicates(subset=['userId'], inplace=True)\n",
    "print(\"Listo\")\n",
    "    "
   ]
  },
  {
   "cell_type": "markdown",
   "metadata": {},
   "source": [
    "Top 10 tweets más retweeted."
   ]
  },
  {
   "cell_type": "code",
   "execution_count": 10,
   "metadata": {},
   "outputs": [],
   "source": [
    "def top_retweets(dataFrame):\n",
    "    dataFrame = dataFrame.sort_values(by='retweetCount', ascending=False)\n",
    "    return dataFrame"
   ]
  },
  {
   "cell_type": "markdown",
   "metadata": {},
   "source": [
    "Top 10 usuarios en función a la cantidad de tweets que emitieron."
   ]
  },
  {
   "cell_type": "code",
   "execution_count": 4,
   "metadata": {},
   "outputs": [],
   "source": [
    "def top_users(dataFrame):\n",
    "    users = dataFrame.sort_values(by='statusesCount', ascending=False)\n",
    "    return users"
   ]
  },
  {
   "cell_type": "markdown",
   "metadata": {},
   "source": [
    "Top 10 días donde hay más tweets."
   ]
  },
  {
   "cell_type": "code",
   "execution_count": 5,
   "metadata": {},
   "outputs": [],
   "source": [
    "def top_days(dataFrame):\n",
    "    days =  dataFrame['date'].dt.date\n",
    "    days = days.value_counts(sort=True, ascending=False)\n",
    "    return days"
   ]
  },
  {
   "cell_type": "markdown",
   "metadata": {},
   "source": [
    "Top 10 hashtags más usados."
   ]
  },
  {
   "cell_type": "code",
   "execution_count": 6,
   "metadata": {},
   "outputs": [],
   "source": [
    "#https://stackoverflow.com/questions/63228403/count-hashtag-frequency-in-a-dataframe\n",
    "\n",
    "def top_hashtags(dataFrame):\n",
    "    hashtags = dataFrame['content']\n",
    "    hashtags = hashtags.str.findall(r'(#\\w+)').explode().value_counts(sort=True, ascending=False)\n",
    "    return hashtags"
   ]
  },
  {
   "cell_type": "markdown",
   "metadata": {},
   "source": [
    "Main"
   ]
  },
  {
   "cell_type": "code",
   "execution_count": 11,
   "metadata": {},
   "outputs": [
    {
     "name": "stdout",
     "output_type": "stream",
     "text": [
      "[1] Top 10 tweets más retweeted\n",
      "[2] Top 10 usuarios en función a la cantidad de tweets que emitieron\n",
      "[3] Top 10 días donde hay más tweets\n",
      "[4] Top 10 hashtags más usados\n",
      "[5] Salir\n",
      "                                                      url  \\\n",
      "408128  https://twitter.com/rihanna/status/13566258896...   \n",
      "395142  https://twitter.com/GretaThunberg/status/13566...   \n",
      "266196  https://twitter.com/GretaThunberg/status/13572...   \n",
      "366579  https://twitter.com/miakhalifa/status/13568483...   \n",
      "372793  https://twitter.com/miakhalifa/status/13568277...   \n",
      "314192  https://twitter.com/TeamJuJu/status/1357048037...   \n",
      "215034  https://twitter.com/BobBlackman/status/1357755...   \n",
      "398011  https://twitter.com/vanessa_vash/status/135668...   \n",
      "325261  https://twitter.com/kylekuzma/status/135700972...   \n",
      "163689  https://twitter.com/AmandaCerny/status/1359013...   \n",
      "\n",
      "                                                  content  \n",
      "408128  why aren’t we talking about this?! #FarmersPro...  \n",
      "395142  We stand in solidarity with the #FarmersProtes...  \n",
      "266196  I still #StandWithFarmers and support their pe...  \n",
      "366579  “Paid actors,” huh? Quite the casting director...  \n",
      "372793  What in the human rights violations is going o...  \n",
      "314192  Happy to share that I’ve donated $10,000 to pr...  \n",
      "215034  There has been much social media coverage arou...  \n",
      "398011  Farmers feed the world. Fight for them. Protec...  \n",
      "325261  Should be talking about this! #FarmersProtest\\...  \n",
      "163689  To all of my influencer/celeb friends- read up...  \n",
      "[1] Top 10 tweets más retweeted\n",
      "[2] Top 10 usuarios en función a la cantidad de tweets que emitieron\n",
      "[3] Top 10 días donde hay más tweets\n",
      "[4] Top 10 hashtags más usados\n",
      "[5] Salir\n",
      "                                                      url  \\\n",
      "408128  https://twitter.com/rihanna/status/13566258896...   \n",
      "395142  https://twitter.com/GretaThunberg/status/13566...   \n",
      "266196  https://twitter.com/GretaThunberg/status/13572...   \n",
      "366579  https://twitter.com/miakhalifa/status/13568483...   \n",
      "372793  https://twitter.com/miakhalifa/status/13568277...   \n",
      "314192  https://twitter.com/TeamJuJu/status/1357048037...   \n",
      "215034  https://twitter.com/BobBlackman/status/1357755...   \n",
      "398011  https://twitter.com/vanessa_vash/status/135668...   \n",
      "325261  https://twitter.com/kylekuzma/status/135700972...   \n",
      "163689  https://twitter.com/AmandaCerny/status/1359013...   \n",
      "\n",
      "                                                  content  \n",
      "408128  why aren’t we talking about this?! #FarmersPro...  \n",
      "395142  We stand in solidarity with the #FarmersProtes...  \n",
      "266196  I still #StandWithFarmers and support their pe...  \n",
      "366579  “Paid actors,” huh? Quite the casting director...  \n",
      "372793  What in the human rights violations is going o...  \n",
      "314192  Happy to share that I’ve donated $10,000 to pr...  \n",
      "215034  There has been much social media coverage arou...  \n",
      "398011  Farmers feed the world. Fight for them. Protec...  \n",
      "325261  Should be talking about this! #FarmersProtest\\...  \n",
      "163689  To all of my influencer/celeb friends- read up...  \n",
      "[1] Top 10 tweets más retweeted\n",
      "[2] Top 10 usuarios en función a la cantidad de tweets que emitieron\n",
      "[3] Top 10 días donde hay más tweets\n",
      "[4] Top 10 hashtags más usados\n",
      "[5] Salir\n",
      "               username        displayname              userId  \\\n",
      "99741   threadreaderapp  Thread Reader App  895814938995957760   \n",
      "272660  GeorgekurianINC       जॉर्ज कुरियन          2359140223   \n",
      "45841    CyberAnonymous           X Æ A-12           128334973   \n",
      "144388      unbiased100           unbiased           238278490   \n",
      "265624      pavan_sethi   RIDE ON ‏‎ - AAP           357267251   \n",
      "151416      animesh1977         Anदोलनजीवi            15936294   \n",
      "173125     CNBCTV18Live          CNBC-TV18            44839509   \n",
      "1392           htTweets    Hindustan Times            36327407   \n",
      "235207        CNNnews18             News18             6509832   \n",
      "9547         IndiaToday         IndiaToday            19897138   \n",
      "\n",
      "                                           rawDescription  \\\n",
      "99741   I'm a 🤖 to help you read threads more easily. ...   \n",
      "272660  Political Strategist/Advisor || Politician || ...   \n",
      "45841   CEO & Founder of https://t.co/FSWQDWIoO0 \\n#Mo...   \n",
      "144388                          {{consciously unbiased-}}   \n",
      "265624  RTs can be interpreted as endorsements,  irony...   \n",
      "151416  Medico turned (bio)informatician, trying to ma...   \n",
      "173125  The CNBC-TV18 news ticker on Twitter. The news...   \n",
      "1392    One of India's largest media companies. Latest...   \n",
      "235207  Lightning fast alerts, #BreakingNews from Indi...   \n",
      "9547    Brings you news breaks: Exclusive political, e...   \n",
      "\n",
      "                                          descriptionUrls  verified  \\\n",
      "99741                                                  []     False   \n",
      "272660                                                 []     False   \n",
      "45841   [{'text': 'Secdevices.com', 'url': 'http://Sec...     False   \n",
      "144388                                                 []     False   \n",
      "265624                                                 []     False   \n",
      "151416                                                 []     False   \n",
      "173125                                                 []      True   \n",
      "1392                                                   []      True   \n",
      "235207                                                 []      True   \n",
      "9547    [{'text': 'instagram.com/indiatoday', 'url': '...      True   \n",
      "\n",
      "                          created  followersCount  friendsCount  \\\n",
      "99741   2017-08-11T01:11:39+00:00          456511          1289   \n",
      "272660  2014-02-24T07:37:16+00:00           72262         28001   \n",
      "45841   2010-03-31T20:41:03+00:00            1790          3314   \n",
      "144388  2011-01-14T20:06:32+00:00            1144            43   \n",
      "265624  2011-08-18T03:09:16+00:00            3071           910   \n",
      "151416  2008-08-21T20:16:22+00:00            1550           969   \n",
      "173125  2009-06-05T06:48:11+00:00          984641           524   \n",
      "1392    2009-04-29T10:11:34+00:00         7924037           128   \n",
      "235207  2007-06-01T20:31:01+00:00         4573789           406   \n",
      "9547    2009-02-02T07:21:54+00:00         5570393           252   \n",
      "\n",
      "        statusesCount  favouritesCount  listedCount  mediaCount  \\\n",
      "99741         1762327             2197         1619         434   \n",
      "272660        1711890           920648          137       15339   \n",
      "45841         1435641            10095          342      773369   \n",
      "144388        1027493                7          198          24   \n",
      "265624        1015822           738206          180        4116   \n",
      "151416         974774             3675          351        1957   \n",
      "173125         944140              204         2482      128655   \n",
      "1392           867921             2930         7277      345496   \n",
      "235207         863748              186         6332      298428   \n",
      "9547           851081             4438         5817      247209   \n",
      "\n",
      "                              location  protected  \\\n",
      "99741   Wherever threads are written..      False   \n",
      "272660                            Pune      False   \n",
      "45841   Milky-way, Observable universe      False   \n",
      "144388                     Chicago, IL      False   \n",
      "265624                                      False   \n",
      "151416                  Bergen, Norway      False   \n",
      "173125                           India      False   \n",
      "1392                             India      False   \n",
      "235207                           India      False   \n",
      "9547                             India      False   \n",
      "\n",
      "                                             linkUrl  \\\n",
      "99741                    https://ThreadReaderApp.com   \n",
      "272660                                 http://inc.in   \n",
      "45841                      http://www.secdevices.com   \n",
      "144388                                          None   \n",
      "265624                                          None   \n",
      "151416  https://sites.google.com/site/sharmaanimesh/   \n",
      "173125                       http://www.cnbctv18.com   \n",
      "1392                   http://www.hindustantimes.com   \n",
      "235207                         http://www.News18.com   \n",
      "9547                                            None   \n",
      "\n",
      "                                          profileImageUrl  \\\n",
      "99741   https://pbs.twimg.com/profile_images/135887701...   \n",
      "272660  https://pbs.twimg.com/profile_images/134500017...   \n",
      "45841   https://pbs.twimg.com/profile_images/125472041...   \n",
      "144388  https://pbs.twimg.com/profile_images/135963395...   \n",
      "265624  https://pbs.twimg.com/profile_images/122529379...   \n",
      "151416  https://pbs.twimg.com/profile_images/105735895...   \n",
      "173125  https://pbs.twimg.com/profile_images/633210816...   \n",
      "1392    https://pbs.twimg.com/profile_images/130014533...   \n",
      "235207  https://pbs.twimg.com/profile_images/116222900...   \n",
      "9547    https://pbs.twimg.com/profile_images/132366453...   \n",
      "\n",
      "                                         profileBannerUrl  \\\n",
      "99741   https://pbs.twimg.com/profile_banners/89581493...   \n",
      "272660  https://pbs.twimg.com/profile_banners/23591402...   \n",
      "45841   https://pbs.twimg.com/profile_banners/12833497...   \n",
      "144388  https://pbs.twimg.com/profile_banners/23827849...   \n",
      "265624  https://pbs.twimg.com/profile_banners/35726725...   \n",
      "151416  https://pbs.twimg.com/profile_banners/15936294...   \n",
      "173125  https://pbs.twimg.com/profile_banners/44839509...   \n",
      "1392    https://pbs.twimg.com/profile_banners/36327407...   \n",
      "235207  https://pbs.twimg.com/profile_banners/6509832/...   \n",
      "9547    https://pbs.twimg.com/profile_banners/19897138...   \n",
      "\n",
      "                                 profileUrl  \n",
      "99741   https://twitter.com/threadreaderapp  \n",
      "272660  https://twitter.com/GeorgekurianINC  \n",
      "45841    https://twitter.com/CyberAnonymous  \n",
      "144388      https://twitter.com/unbiased100  \n",
      "265624      https://twitter.com/pavan_sethi  \n",
      "151416      https://twitter.com/animesh1977  \n",
      "173125     https://twitter.com/CNBCTV18Live  \n",
      "1392           https://twitter.com/htTweets  \n",
      "235207        https://twitter.com/CNNnews18  \n",
      "9547         https://twitter.com/IndiaToday  \n",
      "[1] Top 10 tweets más retweeted\n",
      "[2] Top 10 usuarios en función a la cantidad de tweets que emitieron\n",
      "[3] Top 10 días donde hay más tweets\n",
      "[4] Top 10 hashtags más usados\n",
      "[5] Salir\n",
      "Adios! 😀\n"
     ]
    }
   ],
   "source": [
    "def main():\n",
    "    running = True\n",
    "    while running:\n",
    "        print(\"[1] Top 10 tweets más retweeted\")\n",
    "        print(\"[2] Top 10 usuarios en función a la cantidad de tweets que emitieron\")\n",
    "        print(\"[3] Top 10 días donde hay más tweets\")\n",
    "        print(\"[4] Top 10 hashtags más usados\")\n",
    "        print(\"[5] Salir\")\n",
    "        choice = input()\n",
    "\n",
    "        if choice == \"1\":\n",
    "            retweets = top_retweets(raw_tweets)\n",
    "            print(retweets.head(10))\n",
    "        elif choice == \"2\":\n",
    "            topUsers = top_users(users)\n",
    "            print(topUsers.head(10))\n",
    "        elif choice == \"3\":\n",
    "            dates = top_days(raw_tweets)\n",
    "            print(dates.head(10))\n",
    "        elif choice == \"4\":\n",
    "            hashtags = top_hashtags(raw_tweets)\n",
    "            print(hashtags.head(10))\n",
    "        elif choice == \"5\":\n",
    "            print(\"Adios! \\U0001F600\")\n",
    "            running = False\n",
    "        elif choice == \"f\":\n",
    "            print(\"Paying respects...\")\n",
    "        else:\n",
    "            print(\"Elija una opcion disponible\")\n",
    "        \n",
    "        \n",
    "    \n",
    "if __name__ == '__main__':\n",
    "    main()"
   ]
  }
 ],
 "metadata": {
  "interpreter": {
   "hash": "31f2aee4e71d21fbe5cf8b01ff0e069b9275f58929596ceb00d14d90e3e16cd6"
  },
  "kernelspec": {
   "display_name": "Python 3.8.10 64-bit",
   "language": "python",
   "name": "python3"
  },
  "language_info": {
   "codemirror_mode": {
    "name": "ipython",
    "version": 3
   },
   "file_extension": ".py",
   "mimetype": "text/x-python",
   "name": "python",
   "nbconvert_exporter": "python",
   "pygments_lexer": "ipython3",
   "version": "3.7.1"
  },
  "orig_nbformat": 4
 },
 "nbformat": 4,
 "nbformat_minor": 2
}
