{
 "cells": [
  {
   "cell_type": "markdown",
   "metadata": {},
   "source": [
    "Librerias"
   ]
  },
  {
   "cell_type": "code",
   "execution_count": 1,
   "metadata": {},
   "outputs": [],
   "source": [
    "import pandas as pd\n",
    "from pandas.io.json import json_normalize\n",
    "import warnings\n",
    "warnings.filterwarnings(\"ignore\")"
   ]
  },
  {
   "cell_type": "markdown",
   "metadata": {},
   "source": [
    "Cargar Dataset"
   ]
  },
  {
   "cell_type": "code",
   "execution_count": 2,
   "metadata": {},
   "outputs": [
    {
     "name": "stdout",
     "output_type": "stream",
     "text": [
      "Cargando dataset...\n",
      "Procesando Usuarios...\n",
      "Listo\n"
     ]
    }
   ],
   "source": [
    "print(\"Cargando dataset...\")\n",
    "raw_tweets = pd.read_json(r'./farmers-protest-tweets-2021-03-5.json', lines=True)\n",
    "print(\"Procesando Usuarios...\")\n",
    "users = json_normalize(raw_tweets['user'])\n",
    "users.drop(['description', 'linkTcourl'], axis=1, inplace=True)\n",
    "users.rename(columns={'id':'userId', 'url':'profileUrl'}, inplace=True)\n",
    "users.drop_duplicates(subset=['userId'], inplace=True)\n",
    "print(\"Listo\")\n",
    "    "
   ]
  },
  {
   "cell_type": "markdown",
   "metadata": {},
   "source": [
    "Top 10 tweets más retweeted."
   ]
  },
  {
   "cell_type": "code",
   "execution_count": 3,
   "metadata": {},
   "outputs": [],
   "source": [
    "def top_retweets(dataFrame):\n",
    "    dataFrame = dataFrame.sort_values(by='retweetCount', ascending=False)\n",
    "    return dataFrame[['content', 'retweetCount']]"
   ]
  },
  {
   "cell_type": "markdown",
   "metadata": {},
   "source": [
    "Top 10 usuarios en función a la cantidad de tweets que emitieron."
   ]
  },
  {
   "cell_type": "code",
   "execution_count": 4,
   "metadata": {},
   "outputs": [],
   "source": [
    "def top_users(dataFrame):\n",
    "    users = dataFrame.sort_values(by='statusesCount', ascending=False)\n",
    "    return users"
   ]
  },
  {
   "cell_type": "markdown",
   "metadata": {},
   "source": [
    "Top 10 días donde hay más tweets."
   ]
  },
  {
   "cell_type": "code",
   "execution_count": 5,
   "metadata": {},
   "outputs": [],
   "source": [
    "def top_days(dataFrame):\n",
    "    days =  dataFrame['date'].dt.date\n",
    "    days = days.value_counts(sort=True, ascending=False)\n",
    "    return days"
   ]
  },
  {
   "cell_type": "markdown",
   "metadata": {},
   "source": [
    "Top 10 hashtags más usados"
   ]
  },
  {
   "cell_type": "code",
   "execution_count": 6,
   "metadata": {},
   "outputs": [],
   "source": [
    "#https://stackoverflow.com/questions/63228403/count-hashtag-frequency-in-a-dataframe\n",
    "\n",
    "def top_hashtags(dataFrame):\n",
    "    hashtags = dataFrame['content']\n",
    "    hashtags = hashtags.str.findall(r'(#\\w+)').explode().value_counts(sort=True, ascending=False)\n",
    "    return hashtags"
   ]
  },
  {
   "cell_type": "markdown",
   "metadata": {},
   "source": [
    "Main"
   ]
  },
  {
   "cell_type": "code",
   "execution_count": 7,
   "metadata": {},
   "outputs": [
    {
     "name": "stdout",
     "output_type": "stream",
     "text": [
      "[1] Top 10 tweets más retweeted\n",
      "[2] Top 10 usuarios en función a la cantidad de tweets que emitieron\n",
      "[3] Top 10 días donde hay más tweets\n",
      "[4] Top 10 hashtags más usados\n",
      "[5] Salir\n",
      "                                                  content  retweetCount\n",
      "408128  why aren’t we talking about this?! #FarmersPro...        315547\n",
      "395142  We stand in solidarity with the #FarmersProtes...        103957\n",
      "266196  I still #StandWithFarmers and support their pe...         67694\n",
      "366579  “Paid actors,” huh? Quite the casting director...         35921\n",
      "372793  What in the human rights violations is going o...         26972\n",
      "314192  Happy to share that I’ve donated $10,000 to pr...         23251\n",
      "215034  There has been much social media coverage arou...         20132\n",
      "398011  Farmers feed the world. Fight for them. Protec...         18744\n",
      "325261  Should be talking about this! #FarmersProtest\\...         17368\n",
      "163689  To all of my influencer/celeb friends- read up...         15677\n",
      "[1] Top 10 tweets más retweeted\n",
      "[2] Top 10 usuarios en función a la cantidad de tweets que emitieron\n",
      "[3] Top 10 días donde hay más tweets\n",
      "[4] Top 10 hashtags más usados\n",
      "[5] Salir\n",
      "Adios! 😀\n"
     ]
    }
   ],
   "source": [
    "def main():\n",
    "    running = True\n",
    "    while running:\n",
    "        print(\"[1] Top 10 tweets más retweeted\")\n",
    "        print(\"[2] Top 10 usuarios en función a la cantidad de tweets que emitieron\")\n",
    "        print(\"[3] Top 10 días donde hay más tweets\")\n",
    "        print(\"[4] Top 10 hashtags más usados\")\n",
    "        print(\"[5] Salir\")\n",
    "        choice = input()\n",
    "\n",
    "        if choice == \"1\":\n",
    "            retweets = top_retweets(raw_tweets)\n",
    "            print(retweets.head(10))\n",
    "        elif choice == \"2\":\n",
    "            topUsers = top_users(users)\n",
    "            print(topUsers.head(10))\n",
    "        elif choice == \"3\":\n",
    "            dates = top_days(raw_tweets)\n",
    "            print(dates.head(10))\n",
    "        elif choice == \"4\":\n",
    "            hashtags = top_hashtags(raw_tweets)\n",
    "            print(hashtags.head(10))\n",
    "        elif choice == \"5\":\n",
    "            print(\"Adios! \\U0001F600\")\n",
    "            running = False\n",
    "        elif choice == \"f\":\n",
    "            print(\"Paying respects...\")\n",
    "        else:\n",
    "            print(\"Elija una opcion disponible\")\n",
    "        \n",
    "        \n",
    "    \n",
    "if __name__ == '__main__':\n",
    "    main()"
   ]
  }
 ],
 "metadata": {
  "interpreter": {
   "hash": "31f2aee4e71d21fbe5cf8b01ff0e069b9275f58929596ceb00d14d90e3e16cd6"
  },
  "kernelspec": {
   "display_name": "Python 3.8.10 64-bit",
   "language": "python",
   "name": "python3"
  },
  "language_info": {
   "codemirror_mode": {
    "name": "ipython",
    "version": 3
   },
   "file_extension": ".py",
   "mimetype": "text/x-python",
   "name": "python",
   "nbconvert_exporter": "python",
   "pygments_lexer": "ipython3",
   "version": "3.7.1"
  },
  "orig_nbformat": 4
 },
 "nbformat": 4,
 "nbformat_minor": 2
}
