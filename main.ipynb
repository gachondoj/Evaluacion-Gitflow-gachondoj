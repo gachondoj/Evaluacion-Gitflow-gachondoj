{
 "cells": [
  {
   "cell_type": "markdown",
   "metadata": {},
   "source": [
    "Librerias"
   ]
  },
  {
   "cell_type": "code",
   "execution_count": 1,
   "metadata": {},
   "outputs": [],
   "source": [
    "import pandas as pd\n",
    "from pandas.io.json import json_normalize\n",
    "import warnings\n",
    "warnings.filterwarnings(\"ignore\")"
   ]
  },
  {
   "cell_type": "markdown",
   "metadata": {},
   "source": [
    "Cargar Dataset"
   ]
  },
  {
   "cell_type": "code",
   "execution_count": 2,
   "metadata": {},
   "outputs": [
    {
     "name": "stdout",
     "output_type": "stream",
     "text": [
      "Cargando dataset...\n",
      "Procesando Usuarios...\n",
      "Listo\n"
     ]
    }
   ],
   "source": [
    "print(\"Cargando dataset...\")\n",
    "raw_tweets = pd.read_json(r'./farmers-protest-tweets-2021-03-5.json', lines=True)\n",
    "print(\"Procesando Usuarios...\")\n",
    "users = json_normalize(raw_tweets['user'])\n",
    "users.drop(['description', 'linkTcourl'], axis=1, inplace=True)\n",
    "users.rename(columns={'id':'userId', 'url':'profileUrl'}, inplace=True)\n",
    "users.drop_duplicates(subset=['userId'], inplace=True)\n",
    "print(\"Listo\")\n",
    "    "
   ]
  },
  {
   "cell_type": "markdown",
   "metadata": {},
   "source": [
    "Top 10 tweets más retweeted."
   ]
  },
  {
   "cell_type": "code",

   "execution_count": 10,
   "metadata": {},
   "outputs": [],
   "source": [
    "def top_retweets(dataFrame):\n",
    "    dataFrame = dataFrame.sort_values(by='retweetCount', ascending=False)\n",
    "    return dataFrame"
   ]
  },
  {
   "cell_type": "markdown",
   "metadata": {},
   "source": [
    "Top 10 usuarios en función a la cantidad de tweets que emitieron."
   ]
  },
  {
   "cell_type": "code",
   "execution_count": 4,
   "metadata": {},
   "outputs": [],
   "source": [
    "def top_users(dataFrame):\n",
    "    users = dataFrame.sort_values(by='statusesCount', ascending=False)\n",
    "    return users"
   ]
  },
  {
   "cell_type": "markdown",
   "metadata": {},
   "source": [
    "Top 10 días donde hay más tweets."
   ]
  },
  {
   "cell_type": "code",
   "execution_count": 5,
   "metadata": {},
   "outputs": [],
   "source": [
    "def top_days(dataFrame):\n",
    "    days =  dataFrame['date'].dt.date\n",
    "    days = days.value_counts(sort=True, ascending=False)\n",
    "    return days"
   ]
  },
  {
   "cell_type": "markdown",
   "metadata": {},
   "source": [
    "Top 10 hashtags más usados"
   ]
  },
  {
   "cell_type": "code",
   "execution_count": 6,
   "metadata": {},
   "outputs": [],
   "source": [
    "#https://stackoverflow.com/questions/63228403/count-hashtag-frequency-in-a-dataframe\n",
    "\n",
    "def top_hashtags(dataFrame):\n",
    "    hashtags = dataFrame['content']\n",
    "    hashtags = hashtags.str.findall(r'(#\\w+)').explode().value_counts(sort=True, ascending=False)\n",
    "    return hashtags"
   ]

  }
 ],
 "metadata": {
  "interpreter": {
   "hash": "31f2aee4e71d21fbe5cf8b01ff0e069b9275f58929596ceb00d14d90e3e16cd6"
  },
  "kernelspec": {
   "display_name": "Python 3.8.10 64-bit",
   "language": "python",
   "name": "python3"
  },
  "language_info": {
   "codemirror_mode": {
    "name": "ipython",
    "version": 3
   },
   "file_extension": ".py",
   "mimetype": "text/x-python",
   "name": "python",
   "nbconvert_exporter": "python",
   "pygments_lexer": "ipython3",
   "version": "3.7.1"
  },
  "orig_nbformat": 4
 },
 "nbformat": 4,
 "nbformat_minor": 2
}
